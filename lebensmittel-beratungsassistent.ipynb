{
 "cells": [
  {
   "cell_type": "markdown",
   "id": "9ea0849c",
   "metadata": {},
   "source": [
    "### 🛠️ Imports"
   ]
  },
  {
   "cell_type": "code",
   "execution_count": 1,
   "id": "541ebdc7",
   "metadata": {},
   "outputs": [],
   "source": [
    "from __future__ import annotations\n",
    "from aiworkshop_utils.standardlib_imports import os, json, base64, logging, Optional, List, Literal, pprint, glob, asyncio, datetime, date, time, timezone, ZoneInfo, uuid, dataclass\n",
    "from aiworkshop_utils.thirdparty_imports import AutoTokenizer, load_dotenv, requests, BaseModel, Field, pd, cosine_similarity, plt, np, DataType, MilvusClient, DDGS, rprint\n",
    "from aiworkshop_utils.custom_utils import show_pretty_json, encode_image\n",
    "from aiworkshop_utils.jupyter_imports import Markdown, HTML, JSON, display, widgets\n",
    "from aiworkshop_utils.openai_imports import OpenAI, Agent, Runner, InputGuardrail, GuardrailFunctionOutput, InputGuardrailTripwireTriggered, OpenAIChatCompletionsModel, AsyncOpenAI, set_tracing_disabled, ModelSettings, function_tool, trace, ResponseContentPartDoneEvent, ResponseTextDeltaEvent, RawResponsesStreamEvent, TResponseInputItem, ItemHelpers, MessageOutputItem, RunContextWrapper, input_guardrail, output_guardrail\n",
    "from aiworkshop_utils import config"
   ]
  },
  {
   "cell_type": "markdown",
   "id": "6415a181",
   "metadata": {},
   "source": [
    "### Pydantic Model"
   ]
  },
  {
   "cell_type": "code",
   "execution_count": 5,
   "id": "ff0cadbb",
   "metadata": {},
   "outputs": [],
   "source": [
    "class HealthData(BaseModel):\n",
    "    age: int = Field(description=\"Age in years\")\n",
    "    gender: str = Field(description=\"e.g. male, female, diverse\")\n",
    "    weight: float = Field(description=\"Weight in kg\")   \n",
    "    height: float = Field(description=\"Height in cm\")\n",
    "    allergies: Optional[str] = Field(description=\"e.g. nuts, gluten\")\n",
    "    eating_habits: str = Field(description=\"e.g. vegetarian, vegan, omnivore, paleo\")\n",
    "    goal: str = Field(description=\"e.g. weight loss, muscle gain, maintenance\")\n",
    "    activity_level: str = Field(description=\"e.g. sedentary, lightly active, moderately active, very active\")\n",
    "    timeCooking: int = Field(description=\"Time spent cooking per day in minutes\")\n",
    "    healthCondition: Optional[str] = Field(description=\"e.g. diabetes, hypertension\")"
   ]
  }
 ],
 "metadata": {
  "kernelspec": {
   "display_name": ".venv",
   "language": "python",
   "name": "python3"
  },
  "language_info": {
   "codemirror_mode": {
    "name": "ipython",
    "version": 3
   },
   "file_extension": ".py",
   "mimetype": "text/x-python",
   "name": "python",
   "nbconvert_exporter": "python",
   "pygments_lexer": "ipython3",
   "version": "3.11.11"
  }
 },
 "nbformat": 4,
 "nbformat_minor": 5
}
